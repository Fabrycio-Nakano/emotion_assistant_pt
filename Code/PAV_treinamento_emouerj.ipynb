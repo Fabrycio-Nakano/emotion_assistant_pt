{
  "cells": [
    {
      "cell_type": "markdown",
      "metadata": {
        "id": "chb8i-DV-Cvn"
      },
      "source": [
        "# Treinamento do modelo preliminar de classificação de áudio"
      ]
    },
    {
      "cell_type": "code",
      "execution_count": 1,
      "metadata": {
        "colab": {
          "base_uri": "https://localhost:8080/"
        },
        "id": "dwvDNX53f87y",
        "outputId": "fc5d4ccd-15b4-4546-afed-ea1df83d78c6"
      },
      "outputs": [
        {
          "name": "stdout",
          "output_type": "stream",
          "text": [
            "Downloading...\n",
            "From (original): https://drive.google.com/uc?id=16MMIiaSZeozAFI7MEBU-eHY0-h7kTXpW\n",
            "From (redirected): https://drive.google.com/uc?id=16MMIiaSZeozAFI7MEBU-eHY0-h7kTXpW&confirm=t&uuid=1ab94f72-45b3-43eb-afeb-ba778c57a459\n",
            "To: /content/emoUERJ.zip\n",
            "100% 105M/105M [00:04<00:00, 21.4MB/s]\n"
          ]
        }
      ],
      "source": [
        "!gdown 16MMIiaSZeozAFI7MEBU-eHY0-h7kTXpW"
      ]
    },
    {
      "cell_type": "code",
      "execution_count": null,
      "metadata": {
        "id": "M5GNyf6O2GNB"
      },
      "outputs": [],
      "source": [
        "import os\n",
        "import numpy as np\n",
        "import pandas as pd\n",
        "import torchaudio\n",
        "from sklearn.preprocessing import OneHotEncoder, StandardScaler\n",
        "from sklearn.model_selection import train_test_split\n",
        "from tqdm import tqdm\n",
        "import torch\n",
        "import zipfile\n",
        "from keras.models import Sequential\n",
        "from keras.layers import Conv1D, BatchNormalization, MaxPooling1D, Dropout, Flatten, Dense\n",
        "from keras.optimizers import Adam\n",
        "from keras.callbacks import ModelCheckpoint, EarlyStopping, ReduceLROnPlateau\n",
        "from sklearn.metrics import confusion_matrix, classification_report, accuracy_score, f1_score\n",
        "import seaborn as sns\n",
        "import matplotlib.pyplot as plt"
      ]
    },
    {
      "cell_type": "markdown",
      "metadata": {
        "id": "p-Ct_hk07W9o"
      },
      "source": [
        "A função responsável por extrair características de áudio começa carregando o arquivo de áudio e, se necessário, realiza a reamostragem para garantir que todos os arquivos tenham a mesma taxa de amostragem, o que é crucial para consistência dos dados. Em seguida, gera-se um espectrograma mel que representa a intensidade do som em várias frequências ao longo do tempo. Para garantir que todos os espectrogramas tenham o mesmo tamanho, o que facilita o treinamento do modelo, o espectrograma é padronizado para um comprimento máximo, truncando ou preenchendo com zeros conforme necessário. Essa padronização é importante para garantir que a entrada da rede neural tenha um formato consistente."
      ]
    },
    {
      "cell_type": "code",
      "execution_count": null,
      "metadata": {
        "id": "7iDwrbic2Xmo"
      },
      "outputs": [],
      "source": [
        "def get_features(path, target_sample_rate=16000, n_fft=1024, hop_length=512, n_mels=64, max_pad_len=400):\n",
        "    waveform, sample_rate = torchaudio.load(path)\n",
        "    if sample_rate != target_sample_rate:\n",
        "        resample_transform = torchaudio.transforms.Resample(orig_freq=sample_rate, new_freq=target_sample_rate)\n",
        "        waveform = resample_transform(waveform)\n",
        "    mel_spectrogram_transform = torchaudio.transforms.MelSpectrogram(\n",
        "        sample_rate=target_sample_rate,\n",
        "        n_fft=n_fft,\n",
        "        hop_length=hop_length,\n",
        "        n_mels=n_mels\n",
        "    )\n",
        "    mel_spectrogram = mel_spectrogram_transform(waveform)\n",
        "    mel_spectrogram = mel_spectrogram.mean(dim=0)\n",
        "    pad = max_pad_len - mel_spectrogram.shape[-1]\n",
        "    if pad > 0:\n",
        "        mel_spectrogram = torch.nn.functional.pad(mel_spectrogram, (0, pad))\n",
        "    elif pad < 0:\n",
        "        mel_spectrogram = mel_spectrogram[:, :max_pad_len]\n",
        "    return mel_spectrogram.numpy()"
      ]
    },
    {
      "cell_type": "code",
      "execution_count": null,
      "metadata": {
        "id": "ZXRangR72Zi1"
      },
      "outputs": [],
      "source": [
        "def load_and_split_data(df, audio_col, label_col, label_mapping):\n",
        "    X, Y = [], []\n",
        "    encoder = OneHotEncoder()\n",
        "    max_pad_len = 400\n",
        "    for _, row in tqdm(df.iterrows(), total=df.shape[0]):\n",
        "        path = row[audio_col]\n",
        "        emotion = label_mapping[row[label_col]]\n",
        "        features = get_features(path, max_pad_len=max_pad_len)\n",
        "        X.append(features.flatten())\n",
        "        Y.append(emotion)\n",
        "    Y_encoded = encoder.fit_transform(np.array(Y).reshape(-1,1)).toarray()\n",
        "    X = np.array(X)\n",
        "    X_train, X_temp, y_train, y_temp = train_test_split(X, Y_encoded, test_size=0.2, random_state=42)\n",
        "    X_val, X_test, y_val, y_test = train_test_split(X_temp, y_temp, test_size=0.5, random_state=42)\n",
        "    return X_train, X_val, X_test, y_train, y_val, y_test, encoder"
      ]
    },
    {
      "cell_type": "markdown",
      "metadata": {
        "id": "YcCGRatB75VF"
      },
      "source": [
        "Em seguida, os dados são escalonados usando o StandardScaler para normalizar os valores das características, o que melhora a convergência do modelo durante o treinamento. A normalização está sendo feita para que todas as características contribuam igualmente no aprendizado do modelo. Após a normalização, os dados são reestruturados para o formato esperado pela rede neural."
      ]
    },
    {
      "cell_type": "code",
      "execution_count": 13,
      "metadata": {
        "colab": {
          "base_uri": "https://localhost:8080/"
        },
        "id": "yBZwmAuH2iO3",
        "outputId": "88895d79-b7db-48a8-cde1-62906f889dce"
      },
      "outputs": [
        {
          "name": "stdout",
          "output_type": "stream",
          "text": [
            "['happy' 'angry' 'neutral' 'sad']\n"
          ]
        }
      ],
      "source": [
        "zip_path = 'emoUERJ.zip'\n",
        "extract_to = 'emoUERJ'\n",
        "\n",
        "if not os.path.exists(extract_to):\n",
        "    os.makedirs(extract_to)\n",
        "\n",
        "with zipfile.ZipFile(zip_path, 'r') as zip_ref:\n",
        "    zip_ref.extractall(extract_to)\n",
        "\n",
        "audio_dir = os.path.join(extract_to, 'emoUERJ')\n",
        "data = []\n",
        "emotion_mapping = {'h': 'happy', 'a': 'angry', 's': 'sad', 'n': 'neutral'}\n",
        "\n",
        "for filename in os.listdir(audio_dir):\n",
        "    if filename.endswith(\".wav\"):\n",
        "        label_key = filename[3]\n",
        "        emotion = emotion_mapping.get(label_key, None)\n",
        "        if emotion:\n",
        "            data.append({'filename': os.path.join(audio_dir, filename), 'emotion': emotion})\n",
        "\n",
        "df_emoUERJ = pd.DataFrame(data)\n",
        "print(df_emoUERJ['emotion'].unique())"
      ]
    },
    {
      "cell_type": "code",
      "execution_count": 14,
      "metadata": {
        "colab": {
          "base_uri": "https://localhost:8080/"
        },
        "id": "8LPfyvTL6Zhq",
        "outputId": "3a51967f-207d-4918-ba81-e70777944f28"
      },
      "outputs": [
        {
          "name": "stderr",
          "output_type": "stream",
          "text": [
            "100%|██████████| 377/377 [00:08<00:00, 43.26it/s]\n"
          ]
        }
      ],
      "source": [
        "emo_label_mapping = {'happy': 0, 'angry': 1, 'sad': 2, 'neutral': 3}\n",
        "\n",
        "X_train, X_val, X_test, y_train, y_val, y_test, encoder = load_and_split_data(df_emoUERJ, 'filename', 'emotion', emo_label_mapping)\n",
        "\n",
        "# ajudand dados para o scaler\n",
        "X_train = X_train.reshape(X_train.shape[0], -1)\n",
        "X_val = X_val.reshape(X_val.shape[0], -1)\n",
        "X_test = X_test.reshape(X_test.shape[0], -1)"
      ]
    },
    {
      "cell_type": "code",
      "execution_count": 15,
      "metadata": {
        "id": "J3xeneD96pmS"
      },
      "outputs": [],
      "source": [
        "scaler = StandardScaler()\n",
        "X_train = scaler.fit_transform(X_train)\n",
        "X_val = scaler.transform(X_val)\n",
        "X_test = scaler.transform(X_test)\n",
        "\n",
        "# restaurando a forma dos dados\n",
        "X_train = X_train.reshape(X_train.shape[0], -1, 1)\n",
        "X_val = X_val.reshape(X_val.shape[0], -1, 1)\n",
        "X_test = X_test.reshape(X_test.shape[0], -1, 1)"
      ]
    },
    {
      "cell_type": "markdown",
      "metadata": {
        "id": "HRrI-dHg8FjL"
      },
      "source": [
        "A construção do modelo envolve a definição de uma rede neural convolucional que já é comprovadamente eficaz para a extração de padrões de dados estruturados em matrizes, como imagens e espectrogramas de áudio. A arquitetura do modelo inclui camadas convolucionais para a extração de características, camadas de normalização para estabilizar o aprendizado, camadas de pooling para reduzir a dimensionalidade, e camadas de dropout para evitar o overfitting. Para a prova de conceito foi escolhido uso de Adam como otimizador e a função de perda categórica cross-entropy por ser uma classificação multiclasse, ajustando o modelo para minimizar a perda enquanto melhora a acurácia."
      ]
    },
    {
      "cell_type": "code",
      "execution_count": 7,
      "metadata": {
        "colab": {
          "base_uri": "https://localhost:8080/"
        },
        "id": "y3KBfpTbo6yn",
        "outputId": "b6a65c6c-89ba-4a5f-e239-f3de3eb43c20"
      },
      "outputs": [
        {
          "name": "stdout",
          "output_type": "stream",
          "text": [
            "['happy' 'angry' 'neutral' 'sad']\n"
          ]
        },
        {
          "name": "stderr",
          "output_type": "stream",
          "text": [
            "100%|██████████| 377/377 [00:08<00:00, 45.02it/s]\n"
          ]
        },
        {
          "name": "stdout",
          "output_type": "stream",
          "text": [
            "Model: \"sequential_2\"\n",
            "_________________________________________________________________\n",
            " Layer (type)                Output Shape              Param #   \n",
            "=================================================================\n",
            " conv1d_4 (Conv1D)           (None, 25600, 64)         256       \n",
            "                                                                 \n",
            " batch_normalization_4 (Bat  (None, 25600, 64)         256       \n",
            " chNormalization)                                                \n",
            "                                                                 \n",
            " max_pooling1d_4 (MaxPoolin  (None, 12800, 64)         0         \n",
            " g1D)                                                            \n",
            "                                                                 \n",
            " dropout_6 (Dropout)         (None, 12800, 64)         0         \n",
            "                                                                 \n",
            " conv1d_5 (Conv1D)           (None, 12800, 128)        24704     \n",
            "                                                                 \n",
            " batch_normalization_5 (Bat  (None, 12800, 128)        512       \n",
            " chNormalization)                                                \n",
            "                                                                 \n",
            " max_pooling1d_5 (MaxPoolin  (None, 6400, 128)         0         \n",
            " g1D)                                                            \n",
            "                                                                 \n",
            " dropout_7 (Dropout)         (None, 6400, 128)         0         \n",
            "                                                                 \n",
            " flatten_2 (Flatten)         (None, 819200)            0         \n",
            "                                                                 \n",
            " dense_4 (Dense)             (None, 256)               209715456 \n",
            "                                                                 \n",
            " dropout_8 (Dropout)         (None, 256)               0         \n",
            "                                                                 \n",
            " dense_5 (Dense)             (None, 4)                 1028      \n",
            "                                                                 \n",
            "=================================================================\n",
            "Total params: 209742212 (800.10 MB)\n",
            "Trainable params: 209741828 (800.10 MB)\n",
            "Non-trainable params: 384 (1.50 KB)\n",
            "_________________________________________________________________\n",
            "Epoch 1/20\n",
            "5/5 [==============================] - ETA: 0s - loss: 380.1105 - accuracy: 0.2492"
          ]
        },
        {
          "name": "stderr",
          "output_type": "stream",
          "text": [
            "/usr/local/lib/python3.10/dist-packages/keras/src/engine/training.py:3103: UserWarning: You are saving your model as an HDF5 file via `model.save()`. This file format is considered legacy. We recommend using instead the native Keras format, e.g. `model.save('my_model.keras')`.\n",
            "  saving_api.save_model(\n"
          ]
        },
        {
          "name": "stdout",
          "output_type": "stream",
          "text": [
            "\b\b\b\b\b\b\b\b\b\b\b\b\b\b\b\b\b\b\b\b\b\b\b\b\b\b\b\b\b\b\b\b\b\b\b\b\b\b\b\b\b\b\b\b\b\b\b\b\b\b\b\b\b\b\b\b\b\b\b\b\b\b\b\b\b\b\b\b\b\b\b\b\b\b\b\b\b\b\b\b\b\b\r5/5 [==============================] - 100s 24s/step - loss: 380.1105 - accuracy: 0.2492 - val_loss: 4222.1362 - val_accuracy: 0.6316 - lr: 0.0010\n",
            "Epoch 2/20\n",
            "5/5 [==============================] - 84s 21s/step - loss: 47.8558 - accuracy: 0.7209 - val_loss: 622.0581 - val_accuracy: 0.6842 - lr: 0.0010\n",
            "Epoch 3/20\n",
            "5/5 [==============================] - 90s 22s/step - loss: 13.5545 - accuracy: 0.8339 - val_loss: 3070.3525 - val_accuracy: 0.7105 - lr: 0.0010\n",
            "Epoch 4/20\n",
            "5/5 [==============================] - 2s 330ms/step - loss: 3.3558 - accuracy: 0.9136 - val_loss: 5888.1943 - val_accuracy: 0.6842 - lr: 0.0010\n",
            "Epoch 5/20\n",
            "5/5 [==============================] - 83s 21s/step - loss: 1.8159 - accuracy: 0.9402 - val_loss: 7900.8765 - val_accuracy: 0.7368 - lr: 0.0010\n",
            "Epoch 6/20\n",
            "5/5 [==============================] - 2s 331ms/step - loss: 0.3577 - accuracy: 0.9767 - val_loss: 9385.9121 - val_accuracy: 0.7105 - lr: 0.0010\n",
            "Epoch 7/20\n",
            "5/5 [==============================] - 2s 328ms/step - loss: 0.3174 - accuracy: 0.9767 - val_loss: 10444.3467 - val_accuracy: 0.6316 - lr: 0.0010\n",
            "Epoch 8/20\n",
            "5/5 [==============================] - ETA: 0s - loss: 0.4472 - accuracy: 0.9734\n",
            "Epoch 8: ReduceLROnPlateau reducing learning rate to 0.0005000000237487257.\n",
            "5/5 [==============================] - 2s 329ms/step - loss: 0.4472 - accuracy: 0.9734 - val_loss: 11255.3066 - val_accuracy: 0.6579 - lr: 0.0010\n",
            "Epoch 9/20\n",
            "5/5 [==============================] - 2s 333ms/step - loss: 0.2524 - accuracy: 0.9767 - val_loss: 11736.2285 - val_accuracy: 0.6579 - lr: 5.0000e-04\n",
            "Epoch 10/20\n",
            "5/5 [==============================] - 3s 609ms/step - loss: 0.2052 - accuracy: 0.9801 - val_loss: 12208.7100 - val_accuracy: 0.6316 - lr: 5.0000e-04\n"
          ]
        }
      ],
      "source": [
        "def build_model(input_shape, num_classes):\n",
        "    model = Sequential([\n",
        "        Conv1D(64, 3, activation='relu', padding='same', input_shape=input_shape),\n",
        "        BatchNormalization(),\n",
        "        MaxPooling1D(2),\n",
        "        Dropout(0.2),\n",
        "        Conv1D(128, 3, activation='relu', padding='same'),\n",
        "        BatchNormalization(),\n",
        "        MaxPooling1D(2),\n",
        "        Dropout(0.2),\n",
        "        Flatten(),\n",
        "        Dense(256, activation='relu'),\n",
        "        Dropout(0.2),\n",
        "        Dense(num_classes, activation='softmax')\n",
        "    ])\n",
        "    model.compile(optimizer=Adam(learning_rate=0.001), loss='categorical_crossentropy', metrics=['accuracy'])\n",
        "    return model\n",
        "\n",
        "model = build_model((X_train.shape[1], 1), y_train.shape[1])\n",
        "model.summary()\n",
        "\n",
        "callbacks = [\n",
        "    ModelCheckpoint('best_model_emoUERJ.h5', save_best_only=True, monitor='val_accuracy'),\n",
        "    EarlyStopping(monitor='val_accuracy', patience=5, restore_best_weights=True),\n",
        "    ReduceLROnPlateau(monitor='val_accuracy', factor=0.5, patience=3, min_lr=0.000001, verbose=1)\n",
        "]\n",
        "\n",
        "history = model.fit(\n",
        "    X_train, y_train,\n",
        "    validation_data=(X_val, y_val),\n",
        "    epochs=20,\n",
        "    batch_size=64,\n",
        "    callbacks=callbacks\n",
        ")\n"
      ]
    },
    {
      "cell_type": "markdown",
      "metadata": {
        "id": "CRl3SD1X8UvV"
      },
      "source": [
        "Durante o treinamento, callbacks como ModelCheckpoint, EarlyStopping e ReduceLROnPlateau são utilizados para monitorar a performance do modelo na validação, salvar o melhor modelo baseado na acurácia de validação, parar o treinamento se o desempenho não melhorar, e reduzir a taxa de aprendizado quando necessário. Estes mecanismos garantem que o modelo seja treinado eficientemente e que o melhor desempenho seja alcançado. Apesar do dataset ser pequeno, quando utilizarmos mais dados essas estratégias serão ainda mais úteis e impactantes no desempenho do modelo.\n"
      ]
    },
    {
      "cell_type": "code",
      "execution_count": 8,
      "metadata": {
        "colab": {
          "base_uri": "https://localhost:8080/",
          "height": 978
        },
        "id": "WJ_V9KGRt3qD",
        "outputId": "6bb9e6a8-5d38-4ba7-a749-65e19a40bd4e"
      },
      "outputs": [
        {
          "name": "stdout",
          "output_type": "stream",
          "text": [
            "2/2 [==============================] - 0s 39ms/step\n"
          ]
        },
        {
          "data": {
            "image/png": "[encoded data removed]",
            "text/plain": [
              "<Figure size 1000x800 with 2 Axes>"
            ]
          },
          "metadata": {},
          "output_type": "display_data"
        },
        {
          "name": "stdout",
          "output_type": "stream",
          "text": [
            "Classification Report:\n",
            "              precision    recall  f1-score   support\n",
            "\n",
            "       happy       0.55      0.67      0.60         9\n",
            "       angry       0.86      0.46      0.60        13\n",
            "         sad       1.00      0.75      0.86         8\n",
            "     neutral       0.57      1.00      0.73         8\n",
            "\n",
            "    accuracy                           0.68        38\n",
            "   macro avg       0.74      0.72      0.70        38\n",
            "weighted avg       0.75      0.68      0.68        38\n",
            "\n",
            "Accuracy: 0.6842105263157895\n",
            "F1 Score: 0.6809295967190705\n"
          ]
        }
      ],
      "source": [
        "def plot_confusion_matrix(cm, classes, title='Confusion Matrix', cmap=plt.cm.Blues):\n",
        "    plt.figure(figsize=(10, 8))\n",
        "    sns.heatmap(cm, annot=True, fmt='d', cmap=cmap, xticklabels=classes, yticklabels=classes)\n",
        "    plt.title(title)\n",
        "    plt.ylabel('True label')\n",
        "    plt.xlabel('Predicted label')\n",
        "    plt.show()\n",
        "\n",
        "def evaluate_model(model, X_test, y_test, label_to_index):\n",
        "    y_pred = model.predict(X_test)\n",
        "    y_pred_classes = np.argmax(y_pred, axis=1)\n",
        "    y_true_classes = np.argmax(y_test, axis=1)\n",
        "\n",
        "    accuracy = accuracy_score(y_true_classes, y_pred_classes)\n",
        "    f1 = f1_score(y_true_classes, y_pred_classes, average='weighted')\n",
        "    index_to_label = {v: k for k, v in label_to_index.items()}\n",
        "    cm = confusion_matrix(y_true_classes, y_pred_classes)\n",
        "    plot_confusion_matrix(cm, [index_to_label[i] for i in range(len(index_to_label))], title=\"Confusion Matrix\")\n",
        "\n",
        "    print(\"Classification Report:\")\n",
        "    print(classification_report(y_true_classes, y_pred_classes, target_names=[index_to_label[i] for i in range(len(index_to_label))]))\n",
        "\n",
        "    print(\"Accuracy:\", accuracy)\n",
        "    print(\"F1 Score:\", f1)\n",
        "\n",
        "evaluate_model(model, X_test, y_test, emo_label_mapping)\n"
      ]
    },
    {
      "cell_type": "markdown",
      "metadata": {
        "id": "6GJKVI_x9HTP"
      },
      "source": [
        "Como resultados após o treinamento, a precisão para happy é de 55% corretas, enquanto o recall mostra que 67% das instâncias reais foram corretamente identificadas. A classe angry apresenta uma precisão de 0.86, mas um recall de 0.46, sugerindo que, embora a maioria das previsões angry esteja correta, muitas instâncias reais dessa classe não foram capturadas. Para sad, tanto a precisão quanto o recall são elevados, com 1.00 e 0.75, respectivamente, refletindo um bom desempenho do modelo nessa categoria. A classe neutral tem uma precisão de 0.57 e um recall de 1.00, o que significa que todas as instâncias reais foram identificadas, mas há uma quantidade considerável de previsões erradas.\n",
        "\n",
        "A acurácia geral do modelo é de aproximadamente 68%, o que indica que o modelo está correto em 68% das previsões. O F1-score médio é também de 0.68, sugerindo um desempenho balanceado em termos de precisão e recall. Esses resultados indicam que o modelo possui um desempenho razoável, mas há espaço para melhorias, especialmente nas classes angry e neutral, onde a diferença entre precisão e recall é mais pronunciada."
      ]
    },
    {
      "cell_type": "code",
      "execution_count": 9,
      "metadata": {
        "id": "fK8Btum42sS0"
      },
      "outputs": [],
      "source": [
        "def predict_emotion(audio_path, model, scaler):\n",
        "    features = get_features(audio_path)\n",
        "    features = features.flatten().reshape(1, -1)\n",
        "    features = scaler.transform(features)\n",
        "    features = features.reshape(features.shape[0], features.shape[1], 1)\n",
        "    prediction = model.predict(features)\n",
        "    predicted_class = np.argmax(prediction, axis=1)[0]\n",
        "    return predicted_class"
      ]
    },
    {
      "cell_type": "code",
      "execution_count": 10,
      "metadata": {
        "colab": {
          "base_uri": "https://localhost:8080/"
        },
        "id": "vZqwwKrVwWaj",
        "outputId": "a8e51a72-a487-46fa-cbf3-d1934761d030"
      },
      "outputs": [
        {
          "name": "stdout",
          "output_type": "stream",
          "text": [
            "1/1 [==============================] - 0s 208ms/step\n",
            "Predicted emotion: sad\n"
          ]
        }
      ],
      "source": [
        "emo_label_mapping = {'happy': 0, 'angry': 1, 'sad': 2, 'neutral': 3}\n",
        "index_to_emotion = {v: k for k, v in emo_label_mapping.items()}\n",
        "\n",
        "audio_path = '/content/Gravação233.m4a'\n",
        "predicted_class = predict_emotion(audio_path, model, scaler)\n",
        "predicted_emotion = index_to_emotion[predicted_class]\n",
        "print(f'Predicted emotion: {predicted_emotion}')"
      ]
    }
  ],
  "metadata": {
    "accelerator": "GPU",
    "colab": {
      "gpuType": "T4",
      "provenance": []
    },
    "kernelspec": {
      "display_name": "Python 3",
      "name": "python3"
    },
    "language_info": {
      "name": "python"
    }
  },
  "nbformat": 4,
  "nbformat_minor": 0
}
